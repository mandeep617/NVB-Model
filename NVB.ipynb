{
  "cells": [
    {
      "cell_type": "code",
      "execution_count": 1,
      "metadata": {
        "id": "z6Mt8jOoe3yK"
      },
      "outputs": [],
      "source": [
        "import pandas as pd\n",
        "import numpy as np\n",
        "import math\n",
        "import operator"
      ]
    },
    {
      "cell_type": "code",
      "execution_count": 2,
      "metadata": {
        "colab": {
          "base_uri": "https://localhost:8080/",
          "height": 206
        },
        "id": "Y1hGCMLie7I5",
        "outputId": "036cef3c-f82e-449d-ac92-540eff775775"
      },
      "outputs": [
        {
          "data": {
            "text/html": [
              "<div>\n",
              "<style scoped>\n",
              "    .dataframe tbody tr th:only-of-type {\n",
              "        vertical-align: middle;\n",
              "    }\n",
              "\n",
              "    .dataframe tbody tr th {\n",
              "        vertical-align: top;\n",
              "    }\n",
              "\n",
              "    .dataframe thead th {\n",
              "        text-align: right;\n",
              "    }\n",
              "</style>\n",
              "<table border=\"1\" class=\"dataframe\">\n",
              "  <thead>\n",
              "    <tr style=\"text-align: right;\">\n",
              "      <th></th>\n",
              "      <th>Unnamed: 0</th>\n",
              "      <th>text</th>\n",
              "      <th>class</th>\n",
              "    </tr>\n",
              "  </thead>\n",
              "  <tbody>\n",
              "    <tr>\n",
              "      <th>0</th>\n",
              "      <td>2</td>\n",
              "      <td>Ex Wife Threatening SuicideRecently I left my ...</td>\n",
              "      <td>suicide</td>\n",
              "    </tr>\n",
              "    <tr>\n",
              "      <th>1</th>\n",
              "      <td>3</td>\n",
              "      <td>Am I weird I don't get affected by compliments...</td>\n",
              "      <td>non-suicide</td>\n",
              "    </tr>\n",
              "    <tr>\n",
              "      <th>2</th>\n",
              "      <td>4</td>\n",
              "      <td>Finally 2020 is almost over... So I can never ...</td>\n",
              "      <td>non-suicide</td>\n",
              "    </tr>\n",
              "    <tr>\n",
              "      <th>3</th>\n",
              "      <td>8</td>\n",
              "      <td>i need helpjust help me im crying so hard</td>\n",
              "      <td>suicide</td>\n",
              "    </tr>\n",
              "    <tr>\n",
              "      <th>4</th>\n",
              "      <td>9</td>\n",
              "      <td>I’m so lostHello, my name is Adam (16) and I’v...</td>\n",
              "      <td>suicide</td>\n",
              "    </tr>\n",
              "  </tbody>\n",
              "</table>\n",
              "</div>"
            ],
            "text/plain": [
              "   Unnamed: 0                                               text        class\n",
              "0           2  Ex Wife Threatening SuicideRecently I left my ...      suicide\n",
              "1           3  Am I weird I don't get affected by compliments...  non-suicide\n",
              "2           4  Finally 2020 is almost over... So I can never ...  non-suicide\n",
              "3           8          i need helpjust help me im crying so hard      suicide\n",
              "4           9  I’m so lostHello, my name is Adam (16) and I’v...      suicide"
            ]
          },
          "execution_count": 2,
          "metadata": {},
          "output_type": "execute_result"
        }
      ],
      "source": [
        "df = pd.read_csv('Suicide_Detection.csv')\n",
        "df.head()"
      ]
    },
    {
      "cell_type": "code",
      "execution_count": 3,
      "metadata": {
        "colab": {
          "base_uri": "https://localhost:8080/",
          "height": 206
        },
        "id": "HFCRG-Mmgc5y",
        "outputId": "8d823cff-2336-467d-d4f6-1d852e4df271"
      },
      "outputs": [
        {
          "data": {
            "text/html": [
              "<div>\n",
              "<style scoped>\n",
              "    .dataframe tbody tr th:only-of-type {\n",
              "        vertical-align: middle;\n",
              "    }\n",
              "\n",
              "    .dataframe tbody tr th {\n",
              "        vertical-align: top;\n",
              "    }\n",
              "\n",
              "    .dataframe thead th {\n",
              "        text-align: right;\n",
              "    }\n",
              "</style>\n",
              "<table border=\"1\" class=\"dataframe\">\n",
              "  <thead>\n",
              "    <tr style=\"text-align: right;\">\n",
              "      <th></th>\n",
              "      <th>text</th>\n",
              "      <th>situation</th>\n",
              "    </tr>\n",
              "  </thead>\n",
              "  <tbody>\n",
              "    <tr>\n",
              "      <th>0</th>\n",
              "      <td>Ex Wife Threatening SuicideRecently I left my ...</td>\n",
              "      <td>suicide</td>\n",
              "    </tr>\n",
              "    <tr>\n",
              "      <th>1</th>\n",
              "      <td>Am I weird I don't get affected by compliments...</td>\n",
              "      <td>non-suicide</td>\n",
              "    </tr>\n",
              "    <tr>\n",
              "      <th>2</th>\n",
              "      <td>Finally 2020 is almost over... So I can never ...</td>\n",
              "      <td>non-suicide</td>\n",
              "    </tr>\n",
              "    <tr>\n",
              "      <th>3</th>\n",
              "      <td>i need helpjust help me im crying so hard</td>\n",
              "      <td>suicide</td>\n",
              "    </tr>\n",
              "    <tr>\n",
              "      <th>4</th>\n",
              "      <td>I’m so lostHello, my name is Adam (16) and I’v...</td>\n",
              "      <td>suicide</td>\n",
              "    </tr>\n",
              "  </tbody>\n",
              "</table>\n",
              "</div>"
            ],
            "text/plain": [
              "                                                text    situation\n",
              "0  Ex Wife Threatening SuicideRecently I left my ...      suicide\n",
              "1  Am I weird I don't get affected by compliments...  non-suicide\n",
              "2  Finally 2020 is almost over... So I can never ...  non-suicide\n",
              "3          i need helpjust help me im crying so hard      suicide\n",
              "4  I’m so lostHello, my name is Adam (16) and I’v...      suicide"
            ]
          },
          "execution_count": 3,
          "metadata": {},
          "output_type": "execute_result"
        }
      ],
      "source": [
        "dataframe=df.rename(columns={\"class\": \"situation\"})\n",
        "inputs = dataframe.drop(['Unnamed: 0'],axis=1,inplace=True)\n",
        "dummies = pd.get_dummies(dataframe.situation)\n",
        "dummies.head(3)\n",
        "dataframe.head()"
      ]
    },
    {
      "cell_type": "code",
      "execution_count": 4,
      "metadata": {
        "colab": {
          "base_uri": "https://localhost:8080/",
          "height": 143
        },
        "id": "UGTYOvxsffcu",
        "outputId": "f80722a2-6465-44b1-ce7a-2bf996bd558c"
      },
      "outputs": [
        {
          "data": {
            "text/html": [
              "<div>\n",
              "<style scoped>\n",
              "    .dataframe tbody tr th:only-of-type {\n",
              "        vertical-align: middle;\n",
              "    }\n",
              "\n",
              "    .dataframe tbody tr th {\n",
              "        vertical-align: top;\n",
              "    }\n",
              "\n",
              "    .dataframe thead th {\n",
              "        text-align: right;\n",
              "    }\n",
              "</style>\n",
              "<table border=\"1\" class=\"dataframe\">\n",
              "  <thead>\n",
              "    <tr style=\"text-align: right;\">\n",
              "      <th></th>\n",
              "      <th>text</th>\n",
              "      <th>situation</th>\n",
              "      <th>non-suicide</th>\n",
              "      <th>suicide</th>\n",
              "    </tr>\n",
              "  </thead>\n",
              "  <tbody>\n",
              "    <tr>\n",
              "      <th>0</th>\n",
              "      <td>Ex Wife Threatening SuicideRecently I left my ...</td>\n",
              "      <td>suicide</td>\n",
              "      <td>False</td>\n",
              "      <td>True</td>\n",
              "    </tr>\n",
              "    <tr>\n",
              "      <th>1</th>\n",
              "      <td>Am I weird I don't get affected by compliments...</td>\n",
              "      <td>non-suicide</td>\n",
              "      <td>True</td>\n",
              "      <td>False</td>\n",
              "    </tr>\n",
              "    <tr>\n",
              "      <th>2</th>\n",
              "      <td>Finally 2020 is almost over... So I can never ...</td>\n",
              "      <td>non-suicide</td>\n",
              "      <td>True</td>\n",
              "      <td>False</td>\n",
              "    </tr>\n",
              "  </tbody>\n",
              "</table>\n",
              "</div>"
            ],
            "text/plain": [
              "                                                text    situation  \\\n",
              "0  Ex Wife Threatening SuicideRecently I left my ...      suicide   \n",
              "1  Am I weird I don't get affected by compliments...  non-suicide   \n",
              "2  Finally 2020 is almost over... So I can never ...  non-suicide   \n",
              "\n",
              "   non-suicide  suicide  \n",
              "0        False     True  \n",
              "1         True    False  \n",
              "2         True    False  "
            ]
          },
          "execution_count": 4,
          "metadata": {},
          "output_type": "execute_result"
        }
      ],
      "source": [
        "dataframe= pd.concat([dataframe,dummies],axis='columns')\n",
        "dataframe.head(3)"
      ]
    },
    {
      "cell_type": "code",
      "execution_count": 5,
      "metadata": {
        "colab": {
          "base_uri": "https://localhost:8080/",
          "height": 206
        },
        "id": "SNGqsHPnoW4r",
        "outputId": "e9a69814-e84e-41b2-e7a7-08a9d929d037"
      },
      "outputs": [
        {
          "data": {
            "text/html": [
              "<div>\n",
              "<style scoped>\n",
              "    .dataframe tbody tr th:only-of-type {\n",
              "        vertical-align: middle;\n",
              "    }\n",
              "\n",
              "    .dataframe tbody tr th {\n",
              "        vertical-align: top;\n",
              "    }\n",
              "\n",
              "    .dataframe thead th {\n",
              "        text-align: right;\n",
              "    }\n",
              "</style>\n",
              "<table border=\"1\" class=\"dataframe\">\n",
              "  <thead>\n",
              "    <tr style=\"text-align: right;\">\n",
              "      <th></th>\n",
              "      <th>text</th>\n",
              "      <th>suicide</th>\n",
              "    </tr>\n",
              "  </thead>\n",
              "  <tbody>\n",
              "    <tr>\n",
              "      <th>0</th>\n",
              "      <td>Ex Wife Threatening SuicideRecently I left my ...</td>\n",
              "      <td>True</td>\n",
              "    </tr>\n",
              "    <tr>\n",
              "      <th>1</th>\n",
              "      <td>Am I weird I don't get affected by compliments...</td>\n",
              "      <td>False</td>\n",
              "    </tr>\n",
              "    <tr>\n",
              "      <th>2</th>\n",
              "      <td>Finally 2020 is almost over... So I can never ...</td>\n",
              "      <td>False</td>\n",
              "    </tr>\n",
              "    <tr>\n",
              "      <th>3</th>\n",
              "      <td>i need helpjust help me im crying so hard</td>\n",
              "      <td>True</td>\n",
              "    </tr>\n",
              "    <tr>\n",
              "      <th>4</th>\n",
              "      <td>I’m so lostHello, my name is Adam (16) and I’v...</td>\n",
              "      <td>True</td>\n",
              "    </tr>\n",
              "  </tbody>\n",
              "</table>\n",
              "</div>"
            ],
            "text/plain": [
              "                                                text  suicide\n",
              "0  Ex Wife Threatening SuicideRecently I left my ...     True\n",
              "1  Am I weird I don't get affected by compliments...    False\n",
              "2  Finally 2020 is almost over... So I can never ...    False\n",
              "3          i need helpjust help me im crying so hard     True\n",
              "4  I’m so lostHello, my name is Adam (16) and I’v...     True"
            ]
          },
          "execution_count": 5,
          "metadata": {},
          "output_type": "execute_result"
        }
      ],
      "source": [
        "inputs=dataframe.drop(['situation','non-suicide'],axis=1,inplace=True)\n",
        "target = dataframe.suicide\n",
        "dataframe.head()"
      ]
    },
    {
      "cell_type": "code",
      "execution_count": 6,
      "metadata": {
        "colab": {
          "base_uri": "https://localhost:8080/",
          "height": 206
        },
        "id": "l0ey_lMNuKXF",
        "outputId": "fd7c92e1-a4b3-435c-e0b5-4807e9fada7d"
      },
      "outputs": [
        {
          "data": {
            "text/html": [
              "<div>\n",
              "<style scoped>\n",
              "    .dataframe tbody tr th:only-of-type {\n",
              "        vertical-align: middle;\n",
              "    }\n",
              "\n",
              "    .dataframe tbody tr th {\n",
              "        vertical-align: top;\n",
              "    }\n",
              "\n",
              "    .dataframe thead th {\n",
              "        text-align: right;\n",
              "    }\n",
              "</style>\n",
              "<table border=\"1\" class=\"dataframe\">\n",
              "  <thead>\n",
              "    <tr style=\"text-align: right;\">\n",
              "      <th></th>\n",
              "      <th>text</th>\n",
              "      <th>suicide</th>\n",
              "    </tr>\n",
              "  </thead>\n",
              "  <tbody>\n",
              "    <tr>\n",
              "      <th>0</th>\n",
              "      <td>Ex Wife Threatening SuicideRecently I left my ...</td>\n",
              "      <td>True</td>\n",
              "    </tr>\n",
              "    <tr>\n",
              "      <th>1</th>\n",
              "      <td>Am I weird I don't get affected by compliments...</td>\n",
              "      <td>False</td>\n",
              "    </tr>\n",
              "    <tr>\n",
              "      <th>2</th>\n",
              "      <td>Finally 2020 is almost over    So I can never ...</td>\n",
              "      <td>False</td>\n",
              "    </tr>\n",
              "    <tr>\n",
              "      <th>3</th>\n",
              "      <td>i need helpjust help me im crying so hard</td>\n",
              "      <td>True</td>\n",
              "    </tr>\n",
              "    <tr>\n",
              "      <th>4</th>\n",
              "      <td>I’m so lostHello  my name is Adam  16  and I’v...</td>\n",
              "      <td>True</td>\n",
              "    </tr>\n",
              "  </tbody>\n",
              "</table>\n",
              "</div>"
            ],
            "text/plain": [
              "                                                text  suicide\n",
              "0  Ex Wife Threatening SuicideRecently I left my ...     True\n",
              "1  Am I weird I don't get affected by compliments...    False\n",
              "2  Finally 2020 is almost over    So I can never ...    False\n",
              "3         i need helpjust help me im crying so hard      True\n",
              "4  I’m so lostHello  my name is Adam  16  and I’v...     True"
            ]
          },
          "execution_count": 6,
          "metadata": {},
          "output_type": "execute_result"
        }
      ],
      "source": [
        "dataframe.columns = dataframe.columns.str.replace(r\"[^a-zA-Z\\d\\_]+\", \"\")\n",
        "dataframe = dataframe.replace([\";\",\":\",\"=\",\"\\+\",\"<\", \">\", \"\\?\", \"!\", \"\\\\\\\\\", \"@\", \"#\", \"$\", \"\\*\", \"%\",\n",
        "                               \",\", \"\\.\", \"\\(\", \"\\)\", \"\\[\", \"\\]\", \"\\{\", \"\\}\", \"\\\"\", \"/br\"], \" \", regex = True)\n",
        "dataframe = dataframe.replace([\"' \", \" '\"], \"\", regex = True)\n",
        "dataframe.head()"
      ]
    },
    {
      "cell_type": "code",
      "execution_count": 7,
      "metadata": {
        "colab": {
          "base_uri": "https://localhost:8080/"
        },
        "id": "vfR9-L_BxOvC",
        "outputId": "7d55ba78-7cd4-4dbd-ff34-56a156c36ca8"
      },
      "outputs": [
        {
          "name": "stdout",
          "output_type": "stream",
          "text": [
            "Training dataset size: 23207\n",
            "Development dataset size: 92830\n",
            "Testing dataset size: 116037\n"
          ]
        }
      ],
      "source": [
        "df_train = pd.DataFrame()\n",
        "df_dev = pd.DataFrame()\n",
        "df_test = pd.DataFrame()\n",
        "split_1 = int(0.1 * len(dataframe))\n",
        "split_2 = int(0.5 * len(dataframe))\n",
        "df_train = dataframe[:split_1]\n",
        "df_dev = dataframe[split_1:split_2]\n",
        "df_test = dataframe[split_2:]\n",
        "print(\"Training dataset size:\",len(df_train))\n",
        "print(\"Development dataset size:\",len(df_dev))\n",
        "print(\"Testing dataset size:\",len(df_test))"
      ]
    },
    {
      "cell_type": "code",
      "execution_count": 8,
      "metadata": {
        "id": "gjXd_06BRq3K"
      },
      "outputs": [],
      "source": [
        "df_train_len = len(df_train)\n",
        "df_train_pos_len = len(df_train[df_train['suicide'] == 0])\n",
        "df_train_neg_len = len(df_train[df_train['suicide'] == 1])\n",
        "prob_pos_train = df_train_pos_len / df_train_len\n",
        "prob_neg_train = df_train_neg_len / df_train_len"
      ]
    },
    {
      "cell_type": "code",
      "execution_count": 9,
      "metadata": {
        "id": "PTke8PktwK4L"
      },
      "outputs": [],
      "source": [
        "wordfreq = dict()\n",
        "wordfreq_pos = dict()\n",
        "wordfreq_neg = dict()\n",
        "for ind in df_train.index:\n",
        "    review_set = set(df_train['text'][ind].lower().split())\n",
        "    for word in review_set:\n",
        "        if word in wordfreq:\n",
        "            wordfreq[word] += 1\n",
        "        else:\n",
        "            wordfreq[word] = 1\n",
        "        \n",
        "        if df_train['suicide'][ind] == 0:\n",
        "            if word in wordfreq_pos:\n",
        "                wordfreq_pos[word] += 1\n",
        "            else:\n",
        "                wordfreq_pos[word] = 1\n",
        "        else:\n",
        "            if word in wordfreq_neg:\n",
        "                wordfreq_neg[word] += 1\n",
        "            else:\n",
        "                wordfreq_neg[word] = 1"
      ]
    },
    {
      "cell_type": "code",
      "execution_count": 10,
      "metadata": {
        "colab": {
          "base_uri": "https://localhost:8080/"
        },
        "id": "ru2Spbc7yzr8",
        "outputId": "195f39f0-acb5-43af-aa69-8c335cf3215e"
      },
      "outputs": [
        {
          "name": "stdout",
          "output_type": "stream",
          "text": [
            "Final Vocabulary size: 348\n",
            "Final Positive Vocabulary size: 87\n",
            "Final Negative Vocabulary size: 287\n"
          ]
        }
      ],
      "source": [
        "final_vocab = dict()\n",
        "final_vocab_pos = dict()\n",
        "final_vocab_neg = dict()\n",
        "for word in wordfreq:\n",
        "    if wordfreq[word] > 850:\n",
        "        final_vocab[word] = wordfreq[word]\n",
        "    if word in wordfreq_pos:\n",
        "        if wordfreq_pos[word] > 850:\n",
        "            final_vocab_pos[word] = wordfreq_pos[word]\n",
        "    if word in wordfreq_neg:\n",
        "        if wordfreq_neg[word] > 850:\n",
        "            final_vocab_neg[word] = wordfreq_neg[word]\n",
        "print(\"Final Vocabulary size:\",len(final_vocab))\n",
        "print(\"Final Positive Vocabulary size:\",len(final_vocab_pos))\n",
        "print(\"Final Negative Vocabulary size:\",len(final_vocab_neg))"
      ]
    },
    {
      "cell_type": "code",
      "execution_count": 11,
      "metadata": {
        "id": "lwPXPG8Jy95k"
      },
      "outputs": [],
      "source": [
        "prob_word = dict()\n",
        "prob_word_g_pos = dict()\n",
        "prob_word_g_neg = dict()\n",
        "\n",
        "for word in final_vocab:\n",
        "    prob_word[word] = final_vocab[word] / df_train_len\n",
        "    if word in final_vocab_pos:\n",
        "        prob_word_g_pos[word] = final_vocab_pos[word] / df_train_pos_len\n",
        "        \n",
        "    if word in final_vocab_neg:\n",
        "        prob_word_g_neg[word] = final_vocab_neg[word] / df_train_neg_len"
      ]
    },
    {
      "cell_type": "code",
      "execution_count": 12,
      "metadata": {
        "colab": {
          "base_uri": "https://localhost:8080/"
        },
        "id": "PQ0sxEMwfwiO",
        "outputId": "cb5f95d5-7e0b-4d3e-ef33-59cee2159236"
      },
      "outputs": [
        {
          "name": "stdout",
          "output_type": "stream",
          "text": [
            "Accuracy using 5-Fold Cross Validation:\n",
            "1 : Accuracy df_dev: 49.396746741355166 %\n",
            "2 : Accuracy df_dev: 49.536787676397715 %\n",
            "3 : Accuracy df_dev: 49.19745771841 %\n",
            "4 : Accuracy df_dev: 49.886890014004095 %\n",
            "5 : Accuracy df_dev: 48.76117634385436 %\n"
          ]
        }
      ],
      "source": [
        "accuracy_normal = []\n",
        "df_dev_arr = np.array_split(df_dev, 5)\n",
        "ctr = 0\n",
        "\n",
        "print(\"Accuracy using 5-Fold Cross Validation:\")\n",
        "\n",
        "for df in df_dev_arr:\n",
        "    count = 0\n",
        "    ctr += 1\n",
        "    predicted_sentiments = []\n",
        "    prob_pos_g_wir = dict()\n",
        "    prob_neg_g_wir = dict()\n",
        "    \n",
        "    for ind in df.index:\n",
        "        numPos = 0.00\n",
        "        numNeg = 0.00\n",
        "        \n",
        "        review_set = set(df['text'][ind].lower().split())\n",
        "        for word in review_set:\n",
        "            if word in prob_word:\n",
        "                if word not in prob_word_g_pos:\n",
        "                    numNeg = 0\n",
        "                elif word not in prob_word_g_neg:\n",
        "                    numPos = 0\n",
        "                else:\n",
        "                    numPos = numPos + math.log(prob_word_g_pos[word])\n",
        "                    numNeg = numNeg + math.log(prob_word_g_neg[word])\n",
        "                            \n",
        "        prob_pos_g_wir[ind] = pow(math.e, numPos) * prob_pos_train\n",
        "        prob_neg_g_wir[ind] = pow(math.e, numNeg) * prob_neg_train\n",
        "                            \n",
        "        if(prob_pos_g_wir[ind] < prob_neg_g_wir[ind]):\n",
        "            predicted_sentiments.append(0)\n",
        "        else:\n",
        "            predicted_sentiments.append(1)\n",
        "                                    \n",
        "    df['prediction'] = predicted_sentiments\n",
        "                                                                        \n",
        "    for ind in df.index:\n",
        "        if df['suicide'][ind] == df['prediction'][ind]:\n",
        "            count += 1\n",
        "                                            \n",
        "    accuracy = count / len(df)\n",
        "    accuracy_normal.append(accuracy)\n",
        "    print (ctr,\": Accuracy df_dev:\",accuracy*100,\"%\")"
      ]
    },
    {
      "cell_type": "code",
      "execution_count": 13,
      "metadata": {
        "id": "avb53Jtj3jSP"
      },
      "outputs": [],
      "source": [
        "prob_word_g_pos_smooth = dict()\n",
        "prob_word_g_neg_smooth = dict()\n",
        "\n",
        "for word in final_vocab:\n",
        "    if word in final_vocab_pos:\n",
        "        prob_word_g_pos_smooth[word] = (final_vocab_pos[word]+1) / (df_train_pos_len + len(final_vocab))\n",
        "        \n",
        "    if word in final_vocab_neg:\n",
        "        prob_word_g_neg_smooth[word] = (final_vocab_neg[word]+1) / (df_train_neg_len + len(final_vocab))"
      ]
    },
    {
      "cell_type": "code",
      "execution_count": 14,
      "metadata": {
        "colab": {
          "base_uri": "https://localhost:8080/"
        },
        "id": "FXPJUemXfzEo",
        "outputId": "3051f02e-dfcf-4c7b-a680-e8fa1e6ac983"
      },
      "outputs": [
        {
          "name": "stdout",
          "output_type": "stream",
          "text": [
            "Accuracy after Smoothing using 5-Fold Cross Validation:\n",
            "1 : Accuracy df_dev: 49.396746741355166 %\n",
            "2 : Accuracy df_dev: 49.536787676397715 %\n",
            "3 : Accuracy df_dev: 49.19745771841 %\n",
            "4 : Accuracy df_dev: 49.886890014004095 %\n",
            "5 : Accuracy df_dev: 48.76117634385436 %\n"
          ]
        }
      ],
      "source": [
        "accuracy_smooth = []\n",
        "df_dev_arr = np.array_split(df_dev, 5)\n",
        "ctr = 0\n",
        "\n",
        "print(\"Accuracy after Smoothing using 5-Fold Cross Validation:\")\n",
        "\n",
        "for df in df_dev_arr:\n",
        "    count = 0\n",
        "    ctr += 1\n",
        "    predicted_sentiments = []\n",
        "    prob_pos_g_wir = dict()\n",
        "    prob_neg_g_wir = dict()\n",
        "    \n",
        "    for ind in df.index:\n",
        "        numPos = 0.00\n",
        "        numNeg = 0.00\n",
        "        \n",
        "        review_set = set(df['text'][ind].lower().split())\n",
        "        for word in review_set:\n",
        "            if word in prob_word:\n",
        "                if word not in prob_word_g_pos:\n",
        "                    numNeg = 0\n",
        "                elif word not in prob_word_g_neg:\n",
        "                    numPos = 0\n",
        "                else:\n",
        "                    numPos = numPos + math.log(prob_word_g_pos_smooth[word])\n",
        "                    numNeg = numNeg + math.log(prob_word_g_neg_smooth[word])\n",
        "                            \n",
        "        prob_pos_g_wir[ind] = pow(math.e, numPos) * prob_pos_train\n",
        "        prob_neg_g_wir[ind] = pow(math.e, numNeg) * prob_neg_train\n",
        "                            \n",
        "        if(prob_pos_g_wir[ind] < prob_neg_g_wir[ind]):\n",
        "            predicted_sentiments.append(0)\n",
        "        else:\n",
        "            predicted_sentiments.append(1)\n",
        "                                    \n",
        "    df['prediction'] = predicted_sentiments\n",
        "                                                                        \n",
        "    for ind in df.index:\n",
        "        if df['suicide'][ind] == df['prediction'][ind]:\n",
        "            count += 1\n",
        "                                            \n",
        "    accuracy = count / len(df)\n",
        "    accuracy_smooth.append(accuracy)\n",
        "    print (ctr,\": Accuracy df_dev:\",accuracy*100,\"%\")"
      ]
    },
    {
      "cell_type": "code",
      "execution_count": 15,
      "metadata": {
        "colab": {
          "base_uri": "https://localhost:8080/"
        },
        "id": "zvErruLe3vbK",
        "outputId": "3ad994f8-a6f4-4a85-cac6-e16116d0f3fa"
      },
      "outputs": [
        {
          "name": "stdout",
          "output_type": "stream",
          "text": [
            "For the given dev dataset, accuracy is better with smoothing\n"
          ]
        }
      ],
      "source": [
        "betterNormal = 0\n",
        "betterSmoothing = 0\n",
        "\n",
        "for i in range(len(accuracy_normal)):\n",
        "    if accuracy_normal[i] > accuracy_smooth[i]:\n",
        "        betterNormal += 1\n",
        "    else:\n",
        "        betterSmoothing +=1\n",
        "\n",
        "if(betterNormal > betterSmoothing):\n",
        "    print(\"For the given dev dataset, accuracy is better without smoothing\")\n",
        "else:\n",
        "    print(\"For the given dev dataset, accuracy is better with smoothing\")"
      ]
    },
    {
      "cell_type": "code",
      "execution_count": 16,
      "metadata": {
        "id": "GJF903uP4Kkq"
      },
      "outputs": [],
      "source": [
        "prob_pos_given_word = dict()\n",
        "prob_neg_given_word = dict()\n",
        "\n",
        "for word in final_vocab:\n",
        "    if word in final_vocab_pos:\n",
        "        prob_pos_given_word[word] = (prob_word_g_pos[word] * prob_pos_train) / prob_word[word]\n",
        "    if word in final_vocab_neg:\n",
        "        prob_neg_given_word[word] = (prob_word_g_neg[word] * prob_neg_train) / prob_word[word]"
      ]
    },
    {
      "cell_type": "code",
      "execution_count": 17,
      "metadata": {
        "colab": {
          "base_uri": "https://localhost:8080/"
        },
        "id": "2anqMPGs4PmL",
        "outputId": "4d083651-83d0-4797-d6f5-f1d896f0a191"
      },
      "outputs": [
        {
          "name": "stdout",
          "output_type": "stream",
          "text": [
            "Top 10 words predicting positive class:\n"
          ]
        },
        {
          "data": {
            "text/plain": [
              "[('your', 0.5429149797570849),\n",
              " ('you', 0.5283708686750511),\n",
              " ('we', 0.45490584737363726),\n",
              " ('i', 0.4213099779700177),\n",
              " ('a', 0.4168080386271695),\n",
              " ('i’m', 0.4142235123367199),\n",
              " ('and', 0.3934108527131782),\n",
              " ('the', 0.38907096515283257),\n",
              " ('are', 0.38364424345204445),\n",
              " ('to', 0.3834221155534742)]"
            ]
          },
          "execution_count": 17,
          "metadata": {},
          "output_type": "execute_result"
        }
      ],
      "source": [
        "print(\"Top 10 words predicting positive class:\")\n",
        "prob_pos_given_word = sorted(prob_pos_given_word.items(), key=operator.itemgetter(1), reverse=True)\n",
        "\n",
        "\n",
        "prob_pos_given_word[:10]"
      ]
    },
    {
      "cell_type": "code",
      "execution_count": 18,
      "metadata": {
        "colab": {
          "base_uri": "https://localhost:8080/"
        },
        "id": "Dr2rhoKs4mnR",
        "outputId": "8e729715-70b6-485e-8d26-3ae9e1b65dfc"
      },
      "outputs": [
        {
          "name": "stdout",
          "output_type": "stream",
          "text": [
            "Top 10 words predicting negative class:\n"
          ]
        },
        {
          "data": {
            "text/plain": [
              "[('suicidal', 0.9751908396946563),\n",
              " ('suicide', 0.9689922480620154),\n",
              " ('killing', 0.9628796400449943),\n",
              " ('kill', 0.945713216023961),\n",
              " ('depression', 0.9435028248587569),\n",
              " ('pain', 0.9296730413325106),\n",
              " ('die', 0.9272986457590876),\n",
              " ('living', 0.9240271772699197),\n",
              " ('thoughts', 0.922919508867667),\n",
              " ('job', 0.9225526641883519)]"
            ]
          },
          "execution_count": 18,
          "metadata": {},
          "output_type": "execute_result"
        }
      ],
      "source": [
        "print(\"Top 10 words predicting negative class:\")\n",
        "prob_neg_given_word = sorted(prob_neg_given_word.items(), key=operator.itemgetter(1), reverse=True)\n",
        "\n",
        "prob_neg_given_word[:10]"
      ]
    },
    {
      "cell_type": "code",
      "execution_count": 19,
      "metadata": {
        "colab": {
          "base_uri": "https://localhost:8080/"
        },
        "id": "cO9MaoBL4tuT",
        "outputId": "08cceaa4-cc11-4a65-bcd9-d7e718b40bb1"
      },
      "outputs": [
        {
          "name": "stderr",
          "output_type": "stream",
          "text": [
            "C:\\Users\\Mandeep Kaur\\AppData\\Local\\Temp\\ipykernel_26140\\4157847130.py:31: SettingWithCopyWarning: \n",
            "A value is trying to be set on a copy of a slice from a DataFrame.\n",
            "Try using .loc[row_indexer,col_indexer] = value instead\n",
            "\n",
            "See the caveats in the documentation: https://pandas.pydata.org/pandas-docs/stable/user_guide/indexing.html#returning-a-view-versus-a-copy\n",
            "  df_test['prediction'] = predicted_sentiments\n"
          ]
        },
        {
          "name": "stdout",
          "output_type": "stream",
          "text": [
            "Accuracy df_test: 49.61348535380956 %\n"
          ]
        }
      ],
      "source": [
        "predicted_sentiments = []\n",
        "prob_pos_g_wir = dict()\n",
        "prob_neg_g_wir = dict()\n",
        "\n",
        "if(betterNormal < betterSmoothing):\n",
        "    prob_word_g_pos = prob_word_g_pos_smooth\n",
        "\n",
        "for ind in df_test.index:\n",
        "    numPos = 0.00\n",
        "    numNeg = 0.00\n",
        "    \n",
        "    review_set = set(df_test['text'][ind].lower().split())\n",
        "    for word in review_set:\n",
        "        if word in prob_word:\n",
        "            if word not in prob_word_g_pos:\n",
        "                numNeg = 0\n",
        "            elif word not in prob_word_g_neg:\n",
        "                numPos = 0\n",
        "            else:\n",
        "                numPos = numPos + math.log(prob_word_g_pos[word])\n",
        "                numNeg = numNeg + math.log(prob_word_g_neg[word])\n",
        "    \n",
        "    prob_pos_g_wir[ind] = pow(math.e, numPos) * prob_pos_train\n",
        "    prob_neg_g_wir[ind] = pow(math.e, numNeg) * prob_neg_train\n",
        "    \n",
        "    if(prob_pos_g_wir[ind] < prob_neg_g_wir[ind]):\n",
        "        predicted_sentiments.append(0)\n",
        "    else:\n",
        "        predicted_sentiments.append(1)\n",
        "        \n",
        "df_test['prediction'] = predicted_sentiments\n",
        "\n",
        "count = 0\n",
        "\n",
        "for ind in df_test.index:\n",
        "    if df_test['suicide'][ind] == df_test['prediction'][ind]:\n",
        "        count += 1\n",
        "        \n",
        "accuracy = count / len(df_test)\n",
        "print (\"Accuracy df_test:\",accuracy*100,\"%\")"
      ]
    },
    {
      "cell_type": "code",
      "execution_count": 20,
      "metadata": {},
      "outputs": [
        {
          "name": "stdout",
          "output_type": "stream",
          "text": [
            "Precision: 0.13748191027496381\n",
            "Recall: 0.001638891764137598\n",
            "F1 Score: 0.00323917009052628\n",
            "Support: [58071 57966]\n",
            "Confusion Matrix:\n",
            "[[57475   596]\n",
            " [57871    95]]\n",
            "Accuracy: 49.61348535380956 %\n"
          ]
        }
      ],
      "source": [
        "from sklearn.metrics import accuracy_score, precision_score, recall_score, f1_score, confusion_matrix\n",
        "\n",
        "predicted_sentiments = []\n",
        "prob_pos_g_wir = dict()\n",
        "prob_neg_g_wir = dict()\n",
        "\n",
        "# Calculate precision\n",
        "precision = precision_score(df_test['suicide'], df_test['prediction'])\n",
        "print(\"Precision:\", precision)\n",
        "\n",
        "# Calculate recall\n",
        "recall = recall_score(df_test['suicide'], df_test['prediction'])\n",
        "print(\"Recall:\", recall)\n",
        "\n",
        "# Calculate F1 score\n",
        "f1 = f1_score(df_test['suicide'], df_test['prediction'])\n",
        "print(\"F1 Score:\", f1)\n",
        "\n",
        "# Calculate support\n",
        "support = np.bincount(df_test['suicide'])\n",
        "print(\"Support:\", support)\n",
        "\n",
        "# Calculate confusion matrix\n",
        "cm = confusion_matrix(df_test['suicide'], df_test['prediction'])\n",
        "print(\"Confusion Matrix:\")\n",
        "print(cm)\n",
        "\n",
        "# Calculate accuracy using accuracy_score\n",
        "accuracy = accuracy_score(df_test['suicide'], df_test['prediction'])\n",
        "print(\"Accuracy:\", accuracy * 100, \"%\")"
      ]
    },
    {
      "cell_type": "code",
      "execution_count": 22,
      "metadata": {},
      "outputs": [
        {
          "data": {
            "image/png": "[encoded data removed]",
            "text/plain": [
              "<Figure size 640x480 with 1 Axes>"
            ]
          },
          "metadata": {},
          "output_type": "display_data"
        }
      ],
      "source": [
        "import matplotlib.pyplot as plt\n",
        "import seaborn as sns\n",
        "\n",
        "# Calculate the confusion matrix\n",
        "cm = confusion_matrix(df_test['suicide'], df_test['prediction'])\n",
        "\n",
        "# Create a heatmap of the confusion matrix using seaborn\n",
        "sns.heatmap(cm, annot=True, fmt=\"d\", cmap=\"Blues\", cbar=False)\n",
        "\n",
        "# Set labels, title, and tick parameters\n",
        "plt.xlabel(\"Predicted Label\")\n",
        "plt.ylabel(\"True Label\")\n",
        "plt.title(\"Confusion Matrix\")\n",
        "plt.xticks(ticks=[0, 1], labels=[\"Negative\", \"Positive\"])\n",
        "plt.yticks(ticks=[0, 1], labels=[\"Negative\", \"Positive\"])\n",
        "\n",
        "# Display the plot\n",
        "plt.show()"
      ]
    },
    {
      "cell_type": "code",
      "execution_count": 21,
      "metadata": {
        "colab": {
          "base_uri": "https://localhost:8080/"
        },
        "id": "N_ainaRyK3tN",
        "outputId": "fa6dc595-6d24-41ad-88a9-9461a1889d45"
      },
      "outputs": [
        {
          "name": "stdout",
          "output_type": "stream",
          "text": [
            "Person is not suicidal\n"
          ]
        }
      ],
      "source": [
        "input_review = input('Type here...')\n",
        "word=input_review.split()\n",
        "prob_word = dict()\n",
        "prob_word_g_pos = dict()\n",
        "prob_word_g_neg = dict()\n",
        "a1=0\n",
        "a2=0\n",
        "for j in range(0,len(word)):\n",
        "  new1=word[j]\n",
        "  if new1 in final_vocab_pos:\n",
        "    a1+=final_vocab_pos[new1]/len(final_vocab)\n",
        "  elif new1 in final_vocab_neg:\n",
        "    a2+=final_vocab_neg[new1]/len(final_vocab)\n",
        "if a1<a2:\n",
        "  print(\"Person is suicidal \\n Seek help! \\nCall: 800-273-8255\")\n",
        "else:\n",
        "  print(\"Person is not suicidal\")"
      ]
    }
  ],
  "metadata": {
    "colab": {
      "collapsed_sections": [],
      "name": "FatimaLNU_TermProject.ipynb",
      "provenance": []
    },
    "kernelspec": {
      "display_name": "Python 3",
      "name": "python3"
    },
    "language_info": {
      "codemirror_mode": {
        "name": "ipython",
        "version": 3
      },
      "file_extension": ".py",
      "mimetype": "text/x-python",
      "name": "python",
      "nbconvert_exporter": "python",
      "pygments_lexer": "ipython3",
      "version": "3.9.6"
    }
  },
  "nbformat": 4,
  "nbformat_minor": 0
}
